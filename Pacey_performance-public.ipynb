{
 "cells": [
  {
   "cell_type": "markdown",
   "id": "e316769c",
   "metadata": {},
   "source": [
    "# Sportsmith podcast summary generator"
   ]
  },
  {
   "cell_type": "code",
   "execution_count": null,
   "id": "1ca0646d",
   "metadata": {},
   "outputs": [],
   "source": [
    "## Install dependencies\n",
    "#pip install youtube_transcript_api\n",
    "#pip install google-api-python-client\n",
    "#pip install pyairtable"
   ]
  },
  {
   "cell_type": "code",
   "execution_count": null,
   "id": "ea3c6e20",
   "metadata": {},
   "outputs": [],
   "source": [
    "import os\n",
    "from pyairtable import Table\n",
    "at_api_key = [\"YOUR API KEY HERE\"]"
   ]
  },
  {
   "cell_type": "code",
   "execution_count": null,
   "id": "21717522",
   "metadata": {},
   "outputs": [],
   "source": [
    "# Establish airtable instance\n",
    "table = Table(at_api_key, 'YOUR BASE ID', 'YOUR TABLE ID')"
   ]
  },
  {
   "cell_type": "code",
   "execution_count": null,
   "id": "5066bb69",
   "metadata": {},
   "outputs": [],
   "source": [
    "# Import dependencies\n",
    "\n",
    "from transformers import pipeline\n",
    "summarizer = pipeline(\"summarization\",truncation=True)\n",
    "import urllib.request\n",
    "import json\n",
    "import urllib\n",
    "import re\n",
    "from youtube_transcript_api import YouTubeTranscriptApi\n",
    "from gensim.parsing.preprocessing import remove_stopwords\n",
    "from collections import Counter\n",
    "from apiclient.discovery import build"
   ]
  },
  {
   "cell_type": "code",
   "execution_count": null,
   "id": "5c638705",
   "metadata": {},
   "outputs": [],
   "source": [
    "api_key = ['YOUR YT API KEY HERE']\n",
    "youtube = build('youtube', 'v3', developerKey = api_key)\n",
    "\n",
    "# Function to get all channel videos IDs into a list\n",
    "def get_channel_videos(channel_id):\n",
    "    res = youtube.channels().list(id = channel_id,\n",
    "                                    part='contentDetails').execute()\n",
    "    playlist_id = res['items'][0]['contentDetails']['relatedPlaylists']['uploads']\n",
    "\n",
    "    videos = []\n",
    "    next_page_token = None\n",
    "\n",
    "    while 1:\n",
    "        res = youtube.playlistItems().list(playlistId=playlist_id,\n",
    "                                           part='snippet',\n",
    "                                           pageToken = next_page_token,\n",
    "                                           maxResults=50).execute()\n",
    "        videos += res['items']\n",
    "        next_page_token = res.get('nextPageToken')\n",
    "\n",
    "        if next_page_token is None:\n",
    "            break\n",
    "\n",
    "    return videos"
   ]
  },
  {
   "cell_type": "code",
   "execution_count": null,
   "id": "aa1db17d",
   "metadata": {},
   "outputs": [],
   "source": [
    "# Run function to get all video IDs from channel of interest\n",
    "videos = get_channel_videos('UC2wKJNafA-Zxoz1AE-huebQ')\n",
    "\n",
    "id_list = []\n",
    "\n",
    "for video in videos:\n",
    "    id_list.append(video['snippet']['resourceId']['videoId'])\n",
    "    \n"
   ]
  },
  {
   "cell_type": "code",
   "execution_count": null,
   "id": "5716c555",
   "metadata": {},
   "outputs": [],
   "source": [
    "# Several videos did not have transcripts, this step removes them from the id_list\n",
    "\n",
    "no_transcripts = ['ACqGgYp2yaI',\n",
    " 'LtfoQPj9IXg',\n",
    " 'O6JWPYagcvw',\n",
    " 'WXiBe0ZQ19A',\n",
    " 'GI1z5vuHN4A',\n",
    " '6fMfH1ZgwmU',\n",
    " 'tGhjQiKZZtk',\n",
    " 'foEsfubNED0',\n",
    " 'DfUDsf_GMHQ',\n",
    " 'tNoyBRQqvZ8',\n",
    " '-Zb_L01mhIM',\n",
    " 'V7CbKYNx26E',\n",
    " 'Cxqbzh3YBjE']\n",
    "\n",
    "id_list = [x for x in id_list if x not in no_transcripts]"
   ]
  },
  {
   "cell_type": "code",
   "execution_count": null,
   "id": "09dfbb2d",
   "metadata": {},
   "outputs": [],
   "source": [
    "published_list=[]\n",
    "\n",
    "for video in videos:\n",
    "    published_list.append(video['snippet']['publishedAt'])\n",
    "    \n",
    "id_date_dict = dict(zip(id_list,published_list))"
   ]
  },
  {
   "cell_type": "code",
   "execution_count": null,
   "id": "6f758e87",
   "metadata": {},
   "outputs": [],
   "source": [
    "# In the event the function needs to be re-run (e.g. due to a timeout), this step removes video IDs that have already been created in airtable\n",
    "\n",
    "table_dict = table.all()\n",
    "\n",
    "finished_list = []\n",
    "\n",
    "for i in range(0,len(table_dict)):\n",
    "    #print(table_dict[i]['fields']['ID'])\n",
    "    finished_list.append(table_dict[i]['fields']['ID'])\n",
    "\n",
    "unfinished_list = [x for x in id_list if x not in finished_list]    \n",
    "    \n",
    "id_list = unfinished_list    "
   ]
  },
  {
   "cell_type": "code",
   "execution_count": null,
   "id": "eedf296a",
   "metadata": {},
   "outputs": [],
   "source": [
    "# Create add_podcast function to extract necessary text data, punctuate, summarize and upload to airtable\n",
    "\n",
    "def add_podcast(VideoID):\n",
    "    VideoID = VideoID\n",
    "\n",
    "    params = {\"format\": \"json\", \"url\": \"https://www.youtube.com/watch?v=%s\" % VideoID}\n",
    "    url = \"https://www.youtube.com/oembed\"\n",
    "    query_string = urllib.parse.urlencode(params)\n",
    "    url = url + \"?\" + query_string\n",
    "    url\n",
    "    \n",
    "    Published_date = id_date_dict[VideoID].split('T')[0]\n",
    "    \n",
    "    with urllib.request.urlopen(url) as response:\n",
    "        response_text = response.read()\n",
    "        data = json.loads(response_text.decode())\n",
    "    \n",
    "    raw_text =YouTubeTranscriptApi.get_transcript(VideoID)\n",
    "    \n",
    "    Title = data['title']\n",
    "    Image = data['thumbnail_url']\n",
    "    Full_link = data['author_url']\n",
    "    Author = data['author_name']\n",
    "    \n",
    "    list_text = [text['text'] for text in raw_text]\n",
    "\n",
    "    joined_string = \",\".join(list_text)\n",
    "    \n",
    "    transformed_string=re.sub(\",\",\" \",joined_string)\n",
    "    \n",
    "    # remove additional words\n",
    "    stop_words_lst = ['um', 'oh', 'yeah', 'yep','uh', 'know', 'like',\"it's\", 'going', 'think','kind','I']\n",
    "\n",
    "    for w in stop_words_lst:\n",
    "        pattern = r'\\b'+w+r'\\b'\n",
    "        transformed_string = re.sub(pattern, '', transformed_string)\n",
    "        \n",
    "    filtered_sentence = remove_stopwords(transformed_string)\n",
    "    \n",
    "    # Tag video based on most common word\n",
    "    counted_text = Counter(filtered_sentence.split())\n",
    "    Tag=counted_text.most_common()[0][0]\n",
    "    \n",
    "    # Punctuate text\n",
    "\n",
    "    import subprocess\n",
    "\n",
    "    cased = subprocess.check_output('python recasepunc/recasepunc.py predict recasepunc/checkpoint', shell=True, text=True, input=transformed_string)\n",
    "    \n",
    "    Fulltext = cased\n",
    "    \n",
    "    split_tokens = cased.split(\" \")\n",
    "    docs = []\n",
    "    for i in range(0, len(split_tokens), 850):\n",
    "        selection = \" \".join(split_tokens[i:(i+850)])\n",
    "        docs.append(selection)\n",
    "    \n",
    "    summaries = summarizer(docs)\n",
    "    summary = \"\\n\\n\".join([d[\"summary_text\"] for d in summaries])\n",
    "    \n",
    "    table.create({'Title':Title,'ID':VideoID,'Author':Author,'Images':Image,'Summary':summary,'Fulltext':Fulltext,'Tag':Tag, 'Published_date': Published_date})\n",
    "    "
   ]
  },
  {
   "cell_type": "code",
   "execution_count": null,
   "id": "0ab1d5cf",
   "metadata": {},
   "outputs": [],
   "source": [
    "# Run the add_podcast function on each video ID\n",
    "\n",
    "for id in id_list:\n",
    "    add_podcast(id)"
   ]
  }
 ],
 "metadata": {
  "kernelspec": {
   "display_name": "Python 3 (ipykernel)",
   "language": "python",
   "name": "python3"
  },
  "language_info": {
   "codemirror_mode": {
    "name": "ipython",
    "version": 3
   },
   "file_extension": ".py",
   "mimetype": "text/x-python",
   "name": "python",
   "nbconvert_exporter": "python",
   "pygments_lexer": "ipython3",
   "version": "3.9.7"
  }
 },
 "nbformat": 4,
 "nbformat_minor": 5
}
